{
 "cells": [
  {
   "cell_type": "code",
   "execution_count": 11,
   "id": "13b1986d",
   "metadata": {},
   "outputs": [],
   "source": [
    "import numpy as np\n",
    "import cv2\n",
    "import carla\n",
    "import time\n",
    "import random"
   ]
  },
  {
   "cell_type": "markdown",
   "id": "ee16388c",
   "metadata": {},
   "source": [
    "### Establish connection with carla sim server"
   ]
  },
  {
   "cell_type": "code",
   "execution_count": 12,
   "id": "d0bad65b",
   "metadata": {},
   "outputs": [],
   "source": [
    "client = carla.Client('localhost', 2000)\n",
    "world = client.get_world()"
   ]
  },
  {
   "cell_type": "code",
   "execution_count": 13,
   "id": "cc784713",
   "metadata": {},
   "outputs": [],
   "source": [
    "bp_library = world.get_blueprint_library()\n",
    "spawn_points = world.get_map().get_spawn_points()"
   ]
  },
  {
   "cell_type": "markdown",
   "id": "50e09261",
   "metadata": {},
   "source": [
    "### Spawnning a vehicle and setting spectator camera at appropriate position"
   ]
  },
  {
   "cell_type": "code",
   "execution_count": 14,
   "id": "a8e53bb5",
   "metadata": {
    "scrolled": true
   },
   "outputs": [],
   "source": [
    "spec_init_transform = carla.Transform(carla.Location(x=1.0, y=0.0, z=200.4), carla.Rotation(pitch=-90.0, yaw=0.0, roll=0.0))\n",
    "spectator = world.get_spectator()\n",
    "spectator.set_transform(spec_init_transform)"
   ]
  },
  {
   "cell_type": "code",
   "execution_count": 33,
   "id": "eb65a827",
   "metadata": {},
   "outputs": [],
   "source": [
    "vehicle_bp = bp_library.find('vehicle.lincoln.mkz_2020')\n",
    "vehicle = world.try_spawn_actor(vehicle_bp, random.choice(spawn_points))"
   ]
  },
  {
   "cell_type": "code",
   "execution_count": null,
   "id": "0345a31b",
   "metadata": {},
   "outputs": [],
   "source": [
    "spectator = world.get_spectator()\n",
    "veh_transform = carla.Transform(vehicle.get_transform().transform(carla.Location(x=-4, z=120)),vehicle.get_transform().rotation)\n",
    "spectator.set_transform(veh_transform)"
   ]
  },
  {
   "cell_type": "markdown",
   "id": "c0c59c01",
   "metadata": {},
   "source": [
    "### Giving the vehicle a sine wave command"
   ]
  },
  {
   "cell_type": "code",
   "execution_count": 34,
   "id": "b0565bbf",
   "metadata": {},
   "outputs": [],
   "source": [
    "for i in range(1000):\n",
    "    vehicle.apply_control(carla.VehicleControl(throttle=0.5, steer=np.sin(np.radians(i))))\n",
    "    time.sleep(0.01)\n",
    "\n",
    "vehicle.apply_control(carla.VehicleControl(throttle=0.05, steer=0.0))"
   ]
  },
  {
   "cell_type": "code",
   "execution_count": 35,
   "id": "fe22686d",
   "metadata": {},
   "outputs": [],
   "source": [
    "vehicle.apply_control(carla.VehicleControl(throttle=0.05, steer=0.0))"
   ]
  },
  {
   "cell_type": "code",
   "execution_count": 36,
   "id": "04436d07",
   "metadata": {},
   "outputs": [
    {
     "data": {
      "text/plain": [
       "True"
      ]
     },
     "execution_count": 36,
     "metadata": {},
     "output_type": "execute_result"
    }
   ],
   "source": [
    "vehicle.destroy()"
   ]
  },
  {
   "cell_type": "code",
   "execution_count": null,
   "id": "4a5974e9",
   "metadata": {},
   "outputs": [],
   "source": []
  }
 ],
 "metadata": {
  "kernelspec": {
   "display_name": "Python 3 (ipykernel)",
   "language": "python",
   "name": "python3"
  },
  "language_info": {
   "codemirror_mode": {
    "name": "ipython",
    "version": 3
   },
   "file_extension": ".py",
   "mimetype": "text/x-python",
   "name": "python",
   "nbconvert_exporter": "python",
   "pygments_lexer": "ipython3",
   "version": "3.8.10"
  }
 },
 "nbformat": 4,
 "nbformat_minor": 5
}
