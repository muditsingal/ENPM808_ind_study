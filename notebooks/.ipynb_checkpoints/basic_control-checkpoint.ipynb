{
 "cells": [
  {
   "cell_type": "code",
   "execution_count": 1,
   "id": "b950e32c",
   "metadata": {},
   "outputs": [],
   "source": [
    "import numpy as np\n",
    "import cv2\n",
    "import carla\n",
    "import time\n",
    "import random"
   ]
  },
  {
   "cell_type": "markdown",
   "id": "4983a1f3",
   "metadata": {},
   "source": [
    "### Establish connection with carla sim server"
   ]
  },
  {
   "cell_type": "code",
   "execution_count": null,
   "id": "85b5afe4",
   "metadata": {},
   "outputs": [],
   "source": [
    "client = carla.Client('localhost', 2000)\n",
    "world = client.get_world()"
   ]
  },
  {
   "cell_type": "code",
   "execution_count": null,
   "id": "a0ff25fc",
   "metadata": {},
   "outputs": [],
   "source": [
    "bp_library = world.get_blueprint_library()\n",
    "spawn_points = world.get_map().get_spawn_points()"
   ]
  },
  {
   "cell_type": "markdown",
   "id": "e0f0172e",
   "metadata": {},
   "source": [
    "### Spawnning a vehicle and setting spectator camera at appropriate position"
   ]
  },
  {
   "cell_type": "code",
   "execution_count": 2,
   "id": "b4e6198c",
   "metadata": {
    "scrolled": true
   },
   "outputs": [
    {
     "ename": "NameError",
     "evalue": "name 'world' is not defined",
     "output_type": "error",
     "traceback": [
      "\u001b[0;31m---------------------------------------------------------------------------\u001b[0m",
      "\u001b[0;31mNameError\u001b[0m                                 Traceback (most recent call last)",
      "Cell \u001b[0;32mIn[2], line 2\u001b[0m\n\u001b[1;32m      1\u001b[0m spec_init_transform \u001b[38;5;241m=\u001b[39m carla\u001b[38;5;241m.\u001b[39mTransform(carla\u001b[38;5;241m.\u001b[39mLocation(x\u001b[38;5;241m=\u001b[39m\u001b[38;5;241m1.0\u001b[39m, y\u001b[38;5;241m=\u001b[39m\u001b[38;5;241m0.0\u001b[39m, z\u001b[38;5;241m=\u001b[39m\u001b[38;5;241m200.4\u001b[39m), carla\u001b[38;5;241m.\u001b[39mRotation(pitch\u001b[38;5;241m=\u001b[39m\u001b[38;5;241m-\u001b[39m\u001b[38;5;241m90.0\u001b[39m, yaw\u001b[38;5;241m=\u001b[39m\u001b[38;5;241m0.0\u001b[39m, roll\u001b[38;5;241m=\u001b[39m\u001b[38;5;241m0.0\u001b[39m))\n\u001b[0;32m----> 2\u001b[0m spectator \u001b[38;5;241m=\u001b[39m \u001b[43mworld\u001b[49m\u001b[38;5;241m.\u001b[39mget_spectator()\n\u001b[1;32m      3\u001b[0m spectator\u001b[38;5;241m.\u001b[39mset_transform(spec_init_transform)\n",
      "\u001b[0;31mNameError\u001b[0m: name 'world' is not defined"
     ]
    }
   ],
   "source": [
    "spec_init_transform = carla.Transform(carla.Location(x=1.0, y=0.0, z=200.4), carla.Rotation(pitch=-90.0, yaw=0.0, roll=0.0))\n",
    "spectator = world.get_spectator()\n",
    "spectator.set_transform(spec_init_transform)"
   ]
  },
  {
   "cell_type": "code",
   "execution_count": null,
   "id": "da6e5f6b",
   "metadata": {},
   "outputs": [],
   "source": [
    "vehicle_bp = bp_library.find('vehicle.lincoln.mkz_2020')\n",
    "vehicle = world.try_spawn_actor(vehicle_bp, random.choice(spawn_points))"
   ]
  },
  {
   "cell_type": "code",
   "execution_count": null,
   "id": "5d3a95aa",
   "metadata": {},
   "outputs": [],
   "source": [
    "spectator = world.get_spectator()\n",
    "veh_transform = carla.Transform(vehicle.get_transform().transform(carla.Location(x=-4, z=120)),vehicle.get_transform().rotation)\n",
    "spectator.set_transform(veh_transform)"
   ]
  },
  {
   "cell_type": "markdown",
   "id": "0248c3e8",
   "metadata": {},
   "source": [
    "### Giving the vehicle a sine wave command"
   ]
  },
  {
   "cell_type": "code",
   "execution_count": null,
   "id": "6a6ec58a",
   "metadata": {},
   "outputs": [],
   "source": [
    "for i in range(1000):\n",
    "    vehicle.apply_control(carla.VehicleControl(throttle=0.8, steer=np.sin(np.radians(i))))"
   ]
  },
  {
   "cell_type": "code",
   "execution_count": null,
   "id": "8534a675",
   "metadata": {},
   "outputs": [],
   "source": [
    "for i in range(1000):\n",
    "    vehicle.apply_control(carla.VehicleControl(throttle=0.05, steer=0.0))"
   ]
  },
  {
   "cell_type": "code",
   "execution_count": null,
   "id": "20d55053",
   "metadata": {},
   "outputs": [],
   "source": []
  },
  {
   "cell_type": "code",
   "execution_count": null,
   "id": "c8215ce6",
   "metadata": {},
   "outputs": [],
   "source": []
  }
 ],
 "metadata": {
  "kernelspec": {
   "display_name": "Python 3 (ipykernel)",
   "language": "python",
   "name": "python3"
  },
  "language_info": {
   "codemirror_mode": {
    "name": "ipython",
    "version": 3
   },
   "file_extension": ".py",
   "mimetype": "text/x-python",
   "name": "python",
   "nbconvert_exporter": "python",
   "pygments_lexer": "ipython3",
   "version": "3.8.10"
  }
 },
 "nbformat": 4,
 "nbformat_minor": 5
}
